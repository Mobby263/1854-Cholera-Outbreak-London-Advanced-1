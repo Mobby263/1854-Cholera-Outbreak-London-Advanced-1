{
 "cells": [
  {
   "cell_type": "code",
   "execution_count": 1,
   "metadata": {},
   "outputs": [],
   "source": [
    "%run ./resources/library.py"
   ]
  },
  {
   "cell_type": "code",
   "execution_count": 2,
   "metadata": {},
   "outputs": [
    {
     "data": {
      "text/html": [
       "<style> \n",
       "div.text_cell_render { /* Customize text cells */ \n",
       "    font-family: 'Arial'; \n",
       "    font-size:20px;\n",
       "    line-height: 1.5em;\n",
       "    padding-left:3em; \n",
       "    padding-right:3em; \n",
       "}\n",
       ".CodeMirror {\n",
       "    font-family:  'Source Code Pro', monospace;\n",
       "    font-size: 18px;\n",
       "}\n",
       "\n",
       "/* Cell output */\n",
       "\n",
       ".rendered_html pre, .rendered_html code {\n",
       "    color: inherit !important;\n",
       "    background-color: inherit !important;\n",
       "}\n",
       "div.output_area pre {\n",
       "    line-height: 1.2em;\n",
       "    color: #93a1a1 !important;\n",
       "    font-family: 'Source Code Pro', monospace;\n",
       "    font-size: 16px;\n",
       "}\n",
       ".rendered_html table, .rendered_html td, .rendered_html th {\n",
       "    border: 1px solid #586e75 !important;\n",
       "    font-family: 'Arial';\n",
       "    font-size: 16px;\n",
       "}\n",
       "</style>"
      ],
      "text/plain": [
       "<IPython.core.display.HTML object>"
      ]
     },
     "execution_count": 2,
     "metadata": {},
     "output_type": "execute_result"
    }
   ],
   "source": [
    "# Run this cell if not using JupyterLab\n",
    "style_notebook()"
   ]
  },
  {
   "cell_type": "markdown",
   "metadata": {},
   "source": [
    "# Notebook 3 - Advanced: Analyzing the John Snow Cholera Outbreak Using OpenStreetMaps and Networkx - Part 1"
   ]
  },
  {
   "cell_type": "markdown",
   "metadata": {},
   "source": [
    "## Review of Notebooks 1 and 2 - Basic Notebooks"
   ]
  },
  {
   "cell_type": "markdown",
   "metadata": {},
   "source": [
    "**Note:** This is an advanced notebook and optional for Tier 1.\n",
    "\n",
    "Picking up from Notebook 2, from the Cholera Case Study, Basic Notebooks, we calculated the mean center of all death points on the map. The result is shown on Figure 1 below."
   ]
  },
  {
   "cell_type": "markdown",
   "metadata": {},
   "source": [
    "<img src='images/choleramap-level1-1.png'/>\n",
    "\n",
    "**Figure 1.** Mean center of all death points in relation to location of deaths and pumps."
   ]
  },
  {
   "cell_type": "markdown",
   "metadata": {},
   "source": [
    "## Learning Objectives\n",
    "\n",
    "By the end of this notebook, you should be able to:\n",
    "1. Describe what Dr. John snow was thinking when he created the second map of the catchment area for the Broad Street pump.\n",
    "2. Explain why working with street network data using the Python package `osmnx` helps visualize Dr. John Snow's catchment area map.\n",
    "3. Explain how the translation of data into graph and network structure (nodes and edges) can help solve problems in public health."
   ]
  },
  {
   "cell_type": "markdown",
   "metadata": {},
   "source": [
    "## Transportation and Water Supply in 18th Century London"
   ]
  },
  {
   "cell_type": "markdown",
   "metadata": {},
   "source": [
    "London, in the 18th Century was practically a walking city. Pedestrians walked on narrow streets with animals, different forms of horse-drawn carriages, and with various carts and wagons used to transport goods. In that same time period, running water and toilets did not exist. People used town wells and communal pumps to get drinking water and dumped their untreated sewage either into the Thames River or in cesspools (open pits)."
   ]
  },
  {
   "cell_type": "markdown",
   "metadata": {},
   "source": [
    "## Catchment area for the Broad Street Pump"
   ]
  },
  {
   "cell_type": "markdown",
   "metadata": {},
   "source": [
    "Dr. John Snow suspected that many of the cases he found used the pump at Broad Street. He drew a second map that illustrated the catchment area for the Broad Street pump.\n",
    "\n",
    "![](./images/voronoi-snow.jpg)"
   ]
  },
  {
   "cell_type": "markdown",
   "metadata": {},
   "source": [
    "**Figure 2.** Second map drawn by Dr. John Snow showing catchment area of the Broad Street Pump"
   ]
  },
  {
   "cell_type": "markdown",
   "metadata": {},
   "source": [
    "The following diagram is a more modern representation of Dr. John Snow's second map above. Shown enclosed in the black polygon is the catchment area for the Broad Street pump. An adjustment to the polygon (gray line) was made to accommodate the catchment area for the greyed out pump.\n",
    "\n",
    "![](./images/7-Figure4-1.png)\n",
    "\n",
    "**Figure 3.** Modern version of Figure 2 above showing correction (extended area beyong the gray line) [Shiode, 2012]"
   ]
  },
  {
   "cell_type": "markdown",
   "metadata": {},
   "source": [
    "The following diagram is a map of the catchment areas of the Soho pumps.\n",
    "The pump catchment areas are represented by the colors of the streets between the pumps.![](./images/6-Figure3-1.png)\n",
    "\n",
    "**Figure 4.** Catchment areas from Figure 3 in color [Shiode, 2012]"
   ]
  },
  {
   "cell_type": "markdown",
   "metadata": {},
   "source": [
    "## Using OpenStreetMap and NetworkX (OSMNx)"
   ]
  },
  {
   "cell_type": "markdown",
   "metadata": {},
   "source": [
    "In this notebook, we will produce a map visualization that illustrates the catchment area for the Broad Street pump but from a walkability perspective. We will use two new packages, `osmnx` (OpenStreetMap and Networkx) and `networkx`. \n",
    "\n",
    "**OpenStreetMap-Networkx (OSMnx)**: A Python package for downloading administrative boundary shapes and street networks from OpenStreetMap, and allows you to easily construct, project, visualize, and analyze complex street networks in Python with NetworkX (see References). \n",
    "\n",
    "**Networkx**: A Python package for the creation, manipulation, and study of the structure, dynamics, and functions of complex networks (See References).\n",
    "\n",
    "Using the graph representation of the street networks of Soho District, we will calculate the mean walkable distance of all death points to each of the pumps (See Figure 5 for an illustration of point-to-point calculations). "
   ]
  },
  {
   "cell_type": "markdown",
   "metadata": {},
   "source": [
    "![](./images/choleramap-level1-2.png)\n",
    "\n",
    "**Figure 5.** The computation approach to calculating mean distance values between each pump and all death coordinates on the Soho district map."
   ]
  },
  {
   "cell_type": "markdown",
   "metadata": {},
   "source": [
    "We will carry out the following steps:\n",
    "\n",
    "**Notebook 3:**\n",
    "1. Read the street network graph of Soho district using OSMnx. \n",
    "2. Plot the street network graph on a `folium` map.\n",
    "\n",
    "**Notebook 4:**\n",
    "1. Prepare the original data sets from Notebook 1.\n",
    "\n",
    "2. To represent the pumps and deaths points (coordinates) from the Notebook 1 in OSMnx graph format, we have to find the nearest OSMnx nodes to those points. We will add new columns to the pumps and deaths dataframes to accomodate new information coming from OSMnx. We will also store the short distances between original points to the nearest OSMnx points and store it in the respective dataframes.\n",
    "\n",
    "3. To calculate mean distances from deaths points to pumps points we will create a double loop through records of both pumps and deaths dataframes so we can do pairwise distance calculations between each pumps point and each deaths point. We will add the short distances from #1 to the pump point to death point distance and store this in a new dataframe called `routes_df`.\n",
    "\n",
    "4. We will then create the map representation pump-to-death-points mean distances using `folium` and superimpose this from the death dataframe markers generated in Notebook 1.\n",
    "\n",
    "5. We will illustrate the degrees of  walkability using an isochrone map."
   ]
  },
  {
   "cell_type": "markdown",
   "metadata": {},
   "source": [
    "First, let's `import osmnx`, provide some configuration parameters and print its version. The default setting for `osmnx` is to show debugging information. You can turn this off by setting everything to `False` below."
   ]
  },
  {
   "cell_type": "code",
   "execution_count": 3,
   "metadata": {},
   "outputs": [
    {
     "data": {
      "text/plain": [
       "'0.11'"
      ]
     },
     "execution_count": 3,
     "metadata": {},
     "output_type": "execute_result"
    }
   ],
   "source": [
    "import osmnx as ox\n",
    "\n",
    "# some configuration parameters for osmnx\n",
    "# set log to True to for debugging\n",
    "ox.config(log_file=True, log_console=True, use_cache=True)\n",
    "\n",
    "ox.__version__"
   ]
  },
  {
   "cell_type": "markdown",
   "metadata": {},
   "source": [
    "## Step 1. Read street network information from OSMnx"
   ]
  },
  {
   "cell_type": "markdown",
   "metadata": {},
   "source": [
    "### Reading Graph, `G`, from `SOHO_COORDINATES`"
   ]
  },
  {
   "cell_type": "markdown",
   "metadata": {},
   "source": [
    "The <font color='red'>`ox.graph_from_point()`</font> dot function below loads a street network graph into variable `G`. The `ox.plot_graph()` for function plots a static street network graph using graph `G`."
   ]
  },
  {
   "cell_type": "markdown",
   "metadata": {},
   "source": [
    "> **Note:** The code below might take some time to execute (several seconds). We will use the `%%time` magic to time the code execution."
   ]
  },
  {
   "cell_type": "code",
   "execution_count": 4,
   "metadata": {},
   "outputs": [
    {
     "name": "stdout",
     "output_type": "stream",
     "text": [
      "CPU times: user 2.28 s, sys: 36 ms, total: 2.32 s\n",
      "Wall time: 2.31 s\n"
     ]
    }
   ],
   "source": [
    "%%time\n",
    "SOHO_COORDINATES = (51.513578, -0.136722)\n",
    "\n",
    "G = ox.graph_from_point(SOHO_COORDINATES, distance=700)"
   ]
  },
  {
   "cell_type": "markdown",
   "metadata": {},
   "source": [
    "Typing `G` by itself exposes the object type of `G`  a `networkx.classes.multidigraph.MultiDiGraph`. "
   ]
  },
  {
   "cell_type": "code",
   "execution_count": 5,
   "metadata": {},
   "outputs": [
    {
     "data": {
      "text/plain": [
       "<networkx.classes.multidigraph.MultiDiGraph at 0x7fd4850a89d0>"
      ]
     },
     "execution_count": 5,
     "metadata": {},
     "output_type": "execute_result"
    }
   ],
   "source": [
    "G"
   ]
  },
  {
   "cell_type": "markdown",
   "metadata": {},
   "source": [
    "We used the `walk`-type street network. There are several OSMnx network types:\n",
    "\n",
    "1. `drive` - get drivable public streets (but not service roads)\n",
    "2. `drive_service` - get drivable streets, including service roads\n",
    "3. <font color='red'>`walk`</font> - get all streets and paths that pedestrians can use (this network type ignores one-way directionality)\n",
    "4. `bike` - get all streets and paths that cyclists can use\n",
    "5. `all` - download all non-private OSM streets and paths\n",
    "6. `all_private` - download all OSM streets and paths, including private-access ones\n",
    "\n",
    "Because we are after walkability to the pump, we will use \"walk\" as our network type."
   ]
  },
  {
   "cell_type": "markdown",
   "metadata": {},
   "source": [
    "Let's print some graph statistics using a Python 3 built-in pretty printing function, `pprint`."
   ]
  },
  {
   "cell_type": "code",
   "execution_count": 6,
   "metadata": {},
   "outputs": [
    {
     "name": "stdout",
     "output_type": "stream",
     "text": [
      "{'circuity_avg': 1.0375028646220636,\n",
      " 'clean_intersection_count': None,\n",
      " 'clean_intersection_density_km': None,\n",
      " 'edge_density_km': None,\n",
      " 'edge_length_avg': 31.85439699776425,\n",
      " 'edge_length_total': 99736.11699999987,\n",
      " 'intersection_count': 1187,\n",
      " 'intersection_density_km': None,\n",
      " 'k_avg': 4.379020979020979,\n",
      " 'm': 3131,\n",
      " 'n': 1430,\n",
      " 'node_density_km': None,\n",
      " 'self_loop_proportion': 0.0,\n",
      " 'street_density_km': None,\n",
      " 'street_length_avg': 33.3452926221336,\n",
      " 'street_length_total': 66890.65699999999,\n",
      " 'street_segments_count': 2006,\n",
      " 'streets_per_node_avg': 2.89020979020979,\n",
      " 'streets_per_node_counts': {0: 0, 1: 243, 2: 12, 3: 859, 4: 297, 5: 13, 6: 6},\n",
      " 'streets_per_node_proportion': {0: 0.0,\n",
      "                                 1: 0.16993006993006993,\n",
      "                                 2: 0.008391608391608392,\n",
      "                                 3: 0.6006993006993007,\n",
      "                                 4: 0.2076923076923077,\n",
      "                                 5: 0.00909090909090909,\n",
      "                                 6: 0.004195804195804196}}\n"
     ]
    }
   ],
   "source": [
    "from pprint import pprint\n",
    "\n",
    "basic_stats = ox.basic_stats(G)\n",
    "pprint(basic_stats)"
   ]
  },
  {
   "cell_type": "markdown",
   "metadata": {},
   "source": [
    "### Saving Graph, `G`, as GraphML file"
   ]
  },
  {
   "cell_type": "markdown",
   "metadata": {},
   "source": [
    "OSMnx has the ability to save street network graphs as GraphML files. Let's save the graph to a GraphML file. To learn more about GraphML, click [here](http://graphml.graphdrawing.org/). The GraphML primer can be found [here](http://graphml.graphdrawing.org/primer/graphml-primer.html)."
   ]
  },
  {
   "cell_type": "code",
   "execution_count": 7,
   "metadata": {},
   "outputs": [],
   "source": [
    "ox.save_graphml(G, filename='soho.graphml', folder='outputs')"
   ]
  },
  {
   "cell_type": "markdown",
   "metadata": {},
   "source": [
    "> ### Notes on GraphML\n",
    "> From the GraphML [web site](http://graphml.graphdrawing.org/):\n",
    ">   \n",
    "> `GraphML` (graph markup language) is a comprehensive and easy-to-use file format for **graphs**. A **graph** (see Figure 6 below) is made up of nodes (yellow circles) and edges (connecting lines). It consists of a language core to describe the structural properties of a graph and a flexible extension mechanism to add application-specific data.*\n",
    ">   \n",
    "> ![](images/simple.png)\n",
    "\n",
    "> **Figure 6.** A simple graph with nodes and edges "
   ]
  },
  {
   "cell_type": "code",
   "execution_count": 8,
   "metadata": {},
   "outputs": [
    {
     "name": "stdout",
     "output_type": "stream",
     "text": [
      "total 3480\r\n",
      "drwxr-xr-x  4 jovyan users    4096 Feb  6 12:02 .\r\n",
      "drwxr-xr-x 10 jovyan users    4096 Feb  6 14:23 ..\r\n",
      "-rw-r--r--  1 jovyan users      10 Aug 19 22:38 deaths.cpg\r\n",
      "-rw-r--r--  1 jovyan users   21412 Aug 19 22:38 deaths.dbf\r\n",
      "-rw-r--r--  1 jovyan users   14878 Jun 27  2019 deaths_df.pickle\r\n",
      "-rw-r--r--  1 jovyan users     143 Aug 19 22:38 deaths.prj\r\n",
      "-rw-r--r--  1 jovyan users    7100 Aug 19 22:38 deaths.shp\r\n",
      "-rw-r--r--  1 jovyan users    2100 Aug 19 22:38 deaths.shx\r\n",
      "drwxr-xr-x  4 jovyan users    4096 Jun 27  2019 graph\r\n",
      "-rw-r--r--  1 jovyan users 1995634 Feb  6 12:02 graph.html\r\n",
      "drwxr-xr-x  2 jovyan users    4096 Aug  3  2019 .ipynb_checkpoints\r\n",
      "-rw-r--r--  1 jovyan users      10 Aug 19 22:38 isopoly_10.cpg\r\n",
      "-rw-r--r--  1 jovyan users      78 Aug 19 22:38 isopoly_10.dbf\r\n",
      "-rw-r--r--  1 jovyan users     143 Aug 19 22:38 isopoly_10.prj\r\n",
      "-rw-r--r--  1 jovyan users   34940 Aug 19 22:38 isopoly_10.shp\r\n",
      "-rw-r--r--  1 jovyan users     108 Aug 19 22:38 isopoly_10.shx\r\n",
      "-rw-r--r--  1 jovyan users      10 Aug 19 22:38 isopoly_15.cpg\r\n",
      "-rw-r--r--  1 jovyan users      78 Aug 19 22:38 isopoly_15.dbf\r\n",
      "-rw-r--r--  1 jovyan users     143 Aug 19 22:38 isopoly_15.prj\r\n",
      "-rw-r--r--  1 jovyan users   76348 Aug 19 22:38 isopoly_15.shp\r\n",
      "-rw-r--r--  1 jovyan users     108 Aug 19 22:38 isopoly_15.shx\r\n",
      "-rw-r--r--  1 jovyan users      10 Aug 19 22:38 isopoly_1.cpg\r\n",
      "-rw-r--r--  1 jovyan users      78 Aug 19 22:38 isopoly_1.dbf\r\n",
      "-rw-r--r--  1 jovyan users     143 Aug 19 22:38 isopoly_1.prj\r\n",
      "-rw-r--r--  1 jovyan users    2956 Aug 19 22:38 isopoly_1.shp\r\n",
      "-rw-r--r--  1 jovyan users     108 Aug 19 22:38 isopoly_1.shx\r\n",
      "-rw-r--r--  1 jovyan users      10 Aug 19 22:38 isopoly_5.cpg\r\n",
      "-rw-r--r--  1 jovyan users      78 Aug 19 22:38 isopoly_5.dbf\r\n",
      "-rw-r--r--  1 jovyan users     143 Aug 19 22:38 isopoly_5.prj\r\n",
      "-rw-r--r--  1 jovyan users   17468 Aug 19 22:38 isopoly_5.shp\r\n",
      "-rw-r--r--  1 jovyan users     108 Aug 19 22:38 isopoly_5.shx\r\n",
      "-rw-r--r--  1 jovyan users   13131 Aug 19 09:29 mean_center_df.pickle\r\n",
      "-rw-r--r--  1 jovyan users      10 Aug 19 22:39 pumps.cpg\r\n",
      "-rw-r--r--  1 jovyan users    1514 Aug 19 22:39 pumps.dbf\r\n",
      "-rw-r--r--  1 jovyan users    1452 Aug 20 21:44 pumps_df.pickle\r\n",
      "-rw-r--r--  1 jovyan users     143 Aug 19 22:39 pumps.prj\r\n",
      "-rw-r--r--  1 jovyan users     324 Aug 19 22:39 pumps.shp\r\n",
      "-rw-r--r--  1 jovyan users     164 Aug 19 22:39 pumps.shx\r\n",
      "-rw-r--r--  1 jovyan users   19139 Feb  6 14:14 routes400m_df.pickle\r\n",
      "-rw-r--r--  1 jovyan users 1218357 Feb  6 14:29 soho.graphml\r\n"
     ]
    }
   ],
   "source": [
    "!ls -la outputs"
   ]
  },
  {
   "cell_type": "markdown",
   "metadata": {},
   "source": [
    "## Step 2. View the street network graph, `G`, with Folium"
   ]
  },
  {
   "cell_type": "code",
   "execution_count": 9,
   "metadata": {},
   "outputs": [],
   "source": [
    "from IPython.display import IFrame\n",
    "import pandas as pd\n",
    "import folium\n",
    "import numpy as np\n",
    "\n",
    "# let's import the folium plugins\n",
    "from folium import plugins"
   ]
  },
  {
   "cell_type": "code",
   "execution_count": 10,
   "metadata": {},
   "outputs": [
    {
     "data": {
      "text/plain": [
       "('0.25.3', '0.10.1')"
      ]
     },
     "execution_count": 10,
     "metadata": {},
     "output_type": "execute_result"
    }
   ],
   "source": [
    "pd.__version__, folium.__version__"
   ]
  },
  {
   "cell_type": "markdown",
   "metadata": {},
   "source": [
    "### Create `folium` map, `map1`, using `osmnx`, then overlay graph, `G`"
   ]
  },
  {
   "cell_type": "markdown",
   "metadata": {},
   "source": [
    "`osmnx` allows us to create a `folium` map from graph `G`. This enables us to combine this graph with other data (deaths and pumps). Let's reuse the same map name from Notebooks 1 and 2, `map1`."
   ]
  },
  {
   "cell_type": "code",
   "execution_count": 11,
   "metadata": {},
   "outputs": [],
   "source": [
    "map1 = ox.plot_graph_folium(G, \\\n",
    "                 edge_width=2, \\\n",
    "                 tiles='cartodbpositron', \\\n",
    "                 edge_color='gray', \\\n",
    "                 popup_attribute=None,\\\n",
    "                 zoom = 17, \\\n",
    "                 edge_opacity=0.5)"
   ]
  },
  {
   "cell_type": "markdown",
   "metadata": {},
   "source": [
    "### Load pumps and deaths data points"
   ]
  },
  {
   "cell_type": "code",
   "execution_count": 12,
   "metadata": {},
   "outputs": [],
   "source": [
    "deaths_mean_center_df = pd.read_pickle('outputs/mean_center_df.pickle')\n",
    "pumps_df = pd.read_pickle('outputs/pumps_df.pickle')"
   ]
  },
  {
   "cell_type": "markdown",
   "metadata": {},
   "source": [
    "Note that we used the version of `deaths_df` with values from mean center calculations. "
   ]
  },
  {
   "cell_type": "code",
   "execution_count": 13,
   "metadata": {},
   "outputs": [
    {
     "data": {
      "text/plain": [
       "FID              int64\n",
       "DEATHS           int64\n",
       "LON            float64\n",
       "LAT            float64\n",
       "product_LAT    float64\n",
       "product_LON    float64\n",
       "dtype: object"
      ]
     },
     "execution_count": 13,
     "metadata": {},
     "output_type": "execute_result"
    }
   ],
   "source": [
    "deaths_mean_center_df.dtypes"
   ]
  },
  {
   "cell_type": "markdown",
   "metadata": {},
   "source": [
    "### Plot pumps and data points "
   ]
  },
  {
   "cell_type": "markdown",
   "metadata": {},
   "source": [
    "We copy (re-use) some of the Python code we wrote in Notebooks 1 and 2. The code below should look familiar to you. The main difference is we changed the `folium` map name from `map1` to `graph_map`."
   ]
  },
  {
   "cell_type": "code",
   "execution_count": 14,
   "metadata": {},
   "outputs": [
    {
     "data": {
      "text/html": [
       "<div>\n",
       "<style scoped>\n",
       "    .dataframe tbody tr th:only-of-type {\n",
       "        vertical-align: middle;\n",
       "    }\n",
       "\n",
       "    .dataframe tbody tr th {\n",
       "        vertical-align: top;\n",
       "    }\n",
       "\n",
       "    .dataframe thead th {\n",
       "        text-align: right;\n",
       "    }\n",
       "</style>\n",
       "<table border=\"1\" class=\"dataframe\">\n",
       "  <thead>\n",
       "    <tr style=\"text-align: right;\">\n",
       "      <th></th>\n",
       "      <th>FID</th>\n",
       "      <th>DEATHS</th>\n",
       "      <th>LON</th>\n",
       "      <th>LAT</th>\n",
       "      <th>product_LAT</th>\n",
       "      <th>product_LON</th>\n",
       "    </tr>\n",
       "  </thead>\n",
       "  <tbody>\n",
       "    <tr>\n",
       "      <th>0</th>\n",
       "      <td>0</td>\n",
       "      <td>3</td>\n",
       "      <td>-0.137930</td>\n",
       "      <td>51.513418</td>\n",
       "      <td>154.540254</td>\n",
       "      <td>-0.413790</td>\n",
       "    </tr>\n",
       "    <tr>\n",
       "      <th>1</th>\n",
       "      <td>1</td>\n",
       "      <td>2</td>\n",
       "      <td>-0.137883</td>\n",
       "      <td>51.513361</td>\n",
       "      <td>103.026722</td>\n",
       "      <td>-0.275766</td>\n",
       "    </tr>\n",
       "    <tr>\n",
       "      <th>2</th>\n",
       "      <td>2</td>\n",
       "      <td>1</td>\n",
       "      <td>-0.137853</td>\n",
       "      <td>51.513317</td>\n",
       "      <td>51.513317</td>\n",
       "      <td>-0.137853</td>\n",
       "    </tr>\n",
       "    <tr>\n",
       "      <th>3</th>\n",
       "      <td>3</td>\n",
       "      <td>1</td>\n",
       "      <td>-0.137812</td>\n",
       "      <td>51.513262</td>\n",
       "      <td>51.513262</td>\n",
       "      <td>-0.137812</td>\n",
       "    </tr>\n",
       "    <tr>\n",
       "      <th>4</th>\n",
       "      <td>4</td>\n",
       "      <td>4</td>\n",
       "      <td>-0.137767</td>\n",
       "      <td>51.513204</td>\n",
       "      <td>206.052816</td>\n",
       "      <td>-0.551068</td>\n",
       "    </tr>\n",
       "  </tbody>\n",
       "</table>\n",
       "</div>"
      ],
      "text/plain": [
       "   FID  DEATHS       LON        LAT  product_LAT  product_LON\n",
       "0    0       3 -0.137930  51.513418   154.540254    -0.413790\n",
       "1    1       2 -0.137883  51.513361   103.026722    -0.275766\n",
       "2    2       1 -0.137853  51.513317    51.513317    -0.137853\n",
       "3    3       1 -0.137812  51.513262    51.513262    -0.137812\n",
       "4    4       4 -0.137767  51.513204   206.052816    -0.551068"
      ]
     },
     "execution_count": 14,
     "metadata": {},
     "output_type": "execute_result"
    }
   ],
   "source": [
    "deaths_mean_center_df.head()"
   ]
  },
  {
   "cell_type": "code",
   "execution_count": 15,
   "metadata": {},
   "outputs": [
    {
     "data": {
      "text/plain": [
       "<folium.plugins.fullscreen.Fullscreen at 0x7fd488f98ad0>"
      ]
     },
     "execution_count": 15,
     "metadata": {},
     "output_type": "execute_result"
    }
   ],
   "source": [
    "locationlist = deaths_mean_center_df[[\"LAT\",\"LON\"]].values.tolist()\n",
    "radiuslist = deaths_mean_center_df[[\"DEATHS\"]].values.tolist()\n",
    "\n",
    "for i in range(0, len(locationlist)):\n",
    "    popup = folium.Popup('Location: '+'('+str(locationlist[i][0])+\\\n",
    "                         ', '+str(locationlist[i][1])+')'+\\\n",
    "                         '<br/>'+\\\n",
    "                        'Deaths: '+ str(radiuslist[i][0]))\n",
    "    # add each location with deaths to map1\n",
    "    folium.CircleMarker(\n",
    "                    location=locationlist[i], \\\n",
    "                    radius=radiuslist[i], \\\n",
    "                    popup=popup, \\\n",
    "                    color='black', \\\n",
    "                    weight=1, \\\n",
    "                    fill=True, \\\n",
    "                    fill_color='red', \\\n",
    "                    fill_opacity=1).add_to(map1)\n",
    "    \n",
    "for each in pumps_df.iterrows():\n",
    "    popup = folium.Popup('Location: '+'('+str(each[1]['LAT'])+', '+str(each[1]['LON'])+')')\n",
    "    #add each water pump to map1\n",
    "    folium.RegularPolygonMarker([each[1]['LAT'],each[1]['LON']], \\\n",
    "                                color='black', \\\n",
    "                                weight=1,\\\n",
    "                                fill_opacity=1, \\\n",
    "                                fill_color='blue', \\\n",
    "                                number_of_sides=4, \\\n",
    "                                popup=popup, \\\n",
    "                                radius=10).add_to(map1)\n",
    "    \n",
    "# let's use the \"Fullscreen\" plugin\n",
    "# add the button to the top right corner\n",
    "plugins.Fullscreen(\n",
    "    position='topright',\n",
    "    title='Expand me',\n",
    "    title_cancel='Exit me',\n",
    "    force_separate_button=True\n",
    ").add_to(map1)"
   ]
  },
  {
   "cell_type": "markdown",
   "metadata": {},
   "source": [
    "### Add mean center point to `graph_map`"
   ]
  },
  {
   "cell_type": "code",
   "execution_count": 16,
   "metadata": {},
   "outputs": [
    {
     "data": {
      "text/plain": [
       "<folium.vector_layers.CircleMarker at 0x7fd489051910>"
      ]
     },
     "execution_count": 16,
     "metadata": {},
     "output_type": "execute_result"
    }
   ],
   "source": [
    "mean_LON = np.sum(deaths_mean_center_df['product_LON'])/np.sum(deaths_mean_center_df['DEATHS'])\n",
    "mean_LAT = np.sum(deaths_mean_center_df['product_LAT'])/np.sum(deaths_mean_center_df['DEATHS'])\n",
    "\n",
    "mean_center_POINT = (mean_LAT, mean_LON)\n",
    "\n",
    "folium.CircleMarker(\n",
    "            location=mean_center_POINT, \\\n",
    "            color='black', \\\n",
    "            weight=2, \\\n",
    "            fill_opacity=1, \\\n",
    "            fill_color=\"yellowgreen\", \\\n",
    "            popup=folium.Popup('Mean Center Point: '+ \\\n",
    "                str(mean_center_POINT)), \\\n",
    "            radius=10).add_to(map1)"
   ]
  },
  {
   "cell_type": "markdown",
   "metadata": {},
   "source": [
    "### Write folium map to an html file and view `graph_map` using `IFrame`"
   ]
  },
  {
   "cell_type": "markdown",
   "metadata": {},
   "source": [
    "Before saving the `folium` display as an HTML file, let's check if it exists. If it exists, we will delete it."
   ]
  },
  {
   "cell_type": "code",
   "execution_count": 17,
   "metadata": {},
   "outputs": [
    {
     "name": "stdout",
     "output_type": "stream",
     "text": [
      "outputs/graph.html exists\n"
     ]
    }
   ],
   "source": [
    "%%bash\n",
    "FILE=outputs/graph.html\n",
    "if [ -f \"$FILE\" ]; then\n",
    "    echo \"$FILE exists\"\n",
    "    rm $FILE\n",
    "else\n",
    "    echo \"$FILE does not exist\"\n",
    "fi"
   ]
  },
  {
   "cell_type": "markdown",
   "metadata": {},
   "source": [
    "You can zoom in to see the map at a higher resolution."
   ]
  },
  {
   "cell_type": "code",
   "execution_count": 18,
   "metadata": {},
   "outputs": [
    {
     "data": {
      "text/html": [
       "\n",
       "        <iframe\n",
       "            width=\"900\"\n",
       "            height=\"600\"\n",
       "            src=\"outputs/graph.html\"\n",
       "            frameborder=\"0\"\n",
       "            allowfullscreen\n",
       "        ></iframe>\n",
       "        "
      ],
      "text/plain": [
       "<IPython.lib.display.IFrame at 0x7fd489047810>"
      ]
     },
     "execution_count": 18,
     "metadata": {},
     "output_type": "execute_result"
    }
   ],
   "source": [
    "filepath = 'outputs/graph.html'\n",
    "map1.save(filepath)\n",
    "IFrame(filepath, width=900, height=600)"
   ]
  },
  {
   "cell_type": "markdown",
   "metadata": {},
   "source": [
    "### Summary"
   ]
  },
  {
   "cell_type": "markdown",
   "metadata": {},
   "source": [
    "We have explored several topics from Notebooks 1 to 3:\n",
    "1. Learned about the cholera outbreak in 1854 in Soho District and the maps that Dr. John Snow created to explain his theory that cholera is not spread by bad air.\n",
    "2. Used `folium` and `pandas` for basic representation of data points (pumps and deaths) in code and visualizing those data points on a folium map.\n",
    "3. Used **mean center point** algorithm to determine where the centroid is of all death data points in relation to pump locations.\n",
    "4. Used a powerful Python package called `osmnx` to display the street network graph of Soho District.\n",
    "5. Overlay the street network graph with cholera data points on a `folium` map\n",
    "\n",
    "In Notebooks 4 and 5, we will calculate \"walkability\" characteristics of the Soho district street network graph using point-to-point calculations of mean distance values. "
   ]
  },
  {
   "cell_type": "markdown",
   "metadata": {},
   "source": [
    "### Discussion questions"
   ]
  },
  {
   "cell_type": "markdown",
   "metadata": {},
   "source": [
    "1. With your rudimentary knowledge of graphs, what kinds of data problems can we represent with graphs and graph structure?"
   ]
  },
  {
   "cell_type": "markdown",
   "metadata": {},
   "source": [
    "## Congratulations!"
   ]
  },
  {
   "cell_type": "markdown",
   "metadata": {},
   "source": [
    "You have completed Notebook 3. Please proceed to Notebook 4 to go over some more exciting applications of `osmnx`."
   ]
  },
  {
   "cell_type": "markdown",
   "metadata": {},
   "source": [
    "## References"
   ]
  },
  {
   "cell_type": "markdown",
   "metadata": {},
   "source": [
    "1. Boeing, Geoff. OSMnx: Python for Street Networks. URL: https://geoffboeing.com/2016/11/osmnx-python-street-networks/\n",
    "2. Networkx. URL: https://networkx.github.io/\n",
    "3. Shiode S. Revisiting John Snow's map: network-based spatial demarcation of cholera area. International Journal of Geographical Information Science Volume 26, 2012 - Issue 1. URL: https://www.tandfonline.com/doi/abs/10.1080/13658816.2011.577433."
   ]
  },
  {
   "cell_type": "markdown",
   "metadata": {},
   "source": [
    "*For case study suggestions for improvement, please contact Herman Tolentino, Jan MacGregor, James Tobias or Zhanar Haimovich.*"
   ]
  },
  {
   "cell_type": "code",
   "execution_count": null,
   "metadata": {},
   "outputs": [],
   "source": []
  }
 ],
 "metadata": {
  "kernelspec": {
   "display_name": "Python 3",
   "language": "python",
   "name": "python3"
  },
  "language_info": {
   "codemirror_mode": {
    "name": "ipython",
    "version": 3
   },
   "file_extension": ".py",
   "mimetype": "text/x-python",
   "name": "python",
   "nbconvert_exporter": "python",
   "pygments_lexer": "ipython3",
   "version": "3.7.6"
  },
  "nbTranslate": {
   "displayLangs": [
    "*"
   ],
   "hotkey": "alt-t",
   "langInMainMenu": true,
   "sourceLang": "en",
   "targetLang": "fr",
   "useGoogleTranslate": true
  },
  "widgets": {
   "application/vnd.jupyter.widget-state+json": {
    "state": {},
    "version_major": 2,
    "version_minor": 0
   }
  }
 },
 "nbformat": 4,
 "nbformat_minor": 4
}
